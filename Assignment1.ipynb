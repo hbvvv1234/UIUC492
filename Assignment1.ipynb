{
 "cells": [
  {
   "cell_type": "code",
   "execution_count": 2,
   "metadata": {},
   "outputs": [],
   "source": [
    "import re\n",
    "import os\n",
    "import docx2txt"
   ]
  },
  {
   "cell_type": "code",
   "execution_count": 18,
   "metadata": {},
   "outputs": [],
   "source": [
    "p = re.compile('(?:[Mm]onday|[Tt]uesday|[Ww]ednesday|[Tt]hursday|[Ff]riday|[Ss]aturday|[Ss]unday)(?=\\.|,)')\n"
   ]
  },
  {
   "cell_type": "code",
   "execution_count": 20,
   "metadata": {},
   "outputs": [],
   "source": [
    "p1 = re.compile('(?:[Mm]onday|[Tt]uesday|[Ww]ednesday|[Tt]hursday|[Ff]riday|[Ss]aturday|[Ss]unday)\\s?(?:[Mm]orning|[Aa]fternoon|\\d{1,2}?(?:p\\.?m\\.?)?)')\n"
   ]
  },
  {
   "cell_type": "code",
   "execution_count": 6,
   "metadata": {},
   "outputs": [],
   "source": [
    "p2 = re.compile('\\d{1,2}\\/\\d{1,2}\\/\\d{1,4}')"
   ]
  },
  {
   "cell_type": "code",
   "execution_count": 7,
   "metadata": {},
   "outputs": [],
   "source": [
    "p3 = re.compile('(?:[Mm]onday|[Tt]uesday|[Ww]ednesday|[Tt]hursday|[Ff]riday|[Ss]aturday|[Ss]unday)?\\,?\\s?(?:Jan|Feb|Ma[ry]|Apr|Ju[nl]|Aug|Sept?|Oct|Nov|Dec)\\.?\\s?\\d{1,4}(?:th|st|nd|rd)?\\.?')\n"
   ]
  },
  {
   "cell_type": "code",
   "execution_count": 8,
   "metadata": {},
   "outputs": [],
   "source": [
    "p4 = re.compile('(?:[Jj]anuary|[Ff]ebruary|[Mm]arch|[Aa]pril|[Mm]ay|[Jj]une|[Jj]uly|[Aa]ugust|[Ss]eptember|[Oo]ctober|[Nn]ovember|[Dd]ecember)\\s?(?:\\d{1,2})?\\,?(?:th|st|nd\\rd)\\.?')\n"
   ]
  },
  {
   "cell_type": "code",
   "execution_count": 9,
   "metadata": {},
   "outputs": [],
   "source": [
    "p5 = re.compile(\"[Tt]he\\s?\\d{1,2}(?:st|nd|rd|th)\\s?of\\s?[a-zA-Z]{1,9}\")"
   ]
  },
  {
   "cell_type": "code",
   "execution_count": 10,
   "metadata": {},
   "outputs": [],
   "source": [
    "p6 = re.compile(\"(?:[Mm]onday|[Tt]uesday|[Ww]ednesday|[Tt]hursday|[Ff]riday|[Ss]aturday|[Ss]unday)\\s[Tt]he\\s\\d{1,2}(?:st|nd|rd|th)?\")"
   ]
  },
  {
   "cell_type": "code",
   "execution_count": 11,
   "metadata": {},
   "outputs": [],
   "source": [
    "holidays = re.compile(\"(?:New Year New Year's Day|New Year's Eve|Christmas|Labor Day|Martin Luther King Jr. Day|MLK Day|Presidents' Day|Emancipation Day|Mother's Day|Memorial Day|Father's Day|Independence Day|Columbus Day|Veterans Day|Thanksgiving|Halloween|Valentine's Day|April Fool’s Day|Easter|Lincoln’s Birthday|Washington’s Birthday|Washington’s Birthday|Arbor Day|Flag Day)\\s?(?:[Dd]ay)?\")\n"
   ]
  },
  {
   "cell_type": "code",
   "execution_count": 18,
   "metadata": {},
   "outputs": [
    {
     "data": {
      "text/plain": [
       "['Monday 8p.m.']"
      ]
     },
     "execution_count": 18,
     "metadata": {},
     "output_type": "execute_result"
    }
   ],
   "source": [
    "p1.findall('Monday 8p.m.')"
   ]
  },
  {
   "cell_type": "code",
   "execution_count": 18,
   "metadata": {},
   "outputs": [
    {
     "data": {
      "text/plain": [
       "['10/20/2008']"
      ]
     },
     "execution_count": 18,
     "metadata": {},
     "output_type": "execute_result"
    }
   ],
   "source": [
    "p2.findall('10/20/2008')"
   ]
  },
  {
   "cell_type": "code",
   "execution_count": 19,
   "metadata": {},
   "outputs": [
    {
     "data": {
      "text/plain": [
       "['Wednesday, Oct. 11th']"
      ]
     },
     "execution_count": 19,
     "metadata": {},
     "output_type": "execute_result"
    }
   ],
   "source": [
    "p3.findall('Wednesday, Oct. 11th')\n",
    "#p3.findall('Tuesday, Oct. 2018 and')"
   ]
  },
  {
   "cell_type": "code",
   "execution_count": 20,
   "metadata": {},
   "outputs": [
    {
     "data": {
      "text/plain": [
       "['October 20th']"
      ]
     },
     "execution_count": 20,
     "metadata": {},
     "output_type": "execute_result"
    }
   ],
   "source": [
    "p4.findall('October 20th')"
   ]
  },
  {
   "cell_type": "code",
   "execution_count": 23,
   "metadata": {},
   "outputs": [
    {
     "data": {
      "text/plain": [
       "['Christmas Day']"
      ]
     },
     "execution_count": 23,
     "metadata": {},
     "output_type": "execute_result"
    }
   ],
   "source": [
    "holidays.findall('Christmas Day')"
   ]
  },
  {
   "cell_type": "code",
   "execution_count": 24,
   "metadata": {},
   "outputs": [
    {
     "data": {
      "text/plain": [
       "['The 21st of September']"
      ]
     },
     "execution_count": 24,
     "metadata": {},
     "output_type": "execute_result"
    }
   ],
   "source": [
    "p5.findall('The 21st of September')"
   ]
  },
  {
   "cell_type": "code",
   "execution_count": 25,
   "metadata": {},
   "outputs": [
    {
     "data": {
      "text/plain": [
       "['Monday the 23rd']"
      ]
     },
     "execution_count": 25,
     "metadata": {},
     "output_type": "execute_result"
    }
   ],
   "source": [
    "p6.findall(\"Monday the 23rd\")"
   ]
  },
  {
   "cell_type": "code",
   "execution_count": 19,
   "metadata": {},
   "outputs": [],
   "source": [
    "p = '(?:[Mm]onday|[Tt]uesday|[Ww]ednesday|[Tt]hursday|[Ff]riday|[Ss]aturday|[Ss]unday)(?=\\.|,)'\n",
    "#p = '(?:[Mm]onday|[Tt]uesday|[Ww]ednesday|[Tt]hursday|[Ff]riday|[Ss]aturday|[Ss]unday)'\n",
    "p1 = '(?:[Mm]onday|[Tt]uesday|[Ww]ednesday|[Tt]hursday|[Ff]riday|[Ss]aturday|[Ss]unday)\\s?(?:[Mm]orning|[Aa]fternoon|\\d{1,2}?\\D\\.?\\D\\.?)'\n",
    "p2 = '\\d{1,2}\\/\\d{1,2}\\/\\d{1,4}'\n",
    "#p3 = '(?:[Mm]onday|[Tt]uesday|[Ww]ednesday|[Tt]hursday|[Ff]riday|[Ss]aturday|[Ss]unday)?\\,?\\s?(?:Jan|Feb|Ma[ry]|Apr|Ju[nl]|Aug|Sept?|Oct|Nov|Dec)\\.?\\s?\\d{1,4}(?:\\D{2})?\\.?'\n",
    "#p3 = '(?:[Mm]onday|[Tt]uesday|[Ww]ednesday|[Tt]hursday|[Ff]riday|[Ss]aturday|[Ss]unday)\\,?\\s?(?:Jan|Feb|Ma[ry]|Apr|Ju[nl]|Aug|Sept?|Oct|Nov|Dec)?\\.?\\s?(?:\\d{1,4})?(?:th|st|nd|rd)?\\.?'\n",
    "p3 = '(?:[Mm]onday|[Tt]uesday|[Ww]ednesday|[Tt]hursday|[Ff]riday|[Ss]aturday|[Ss]unday)?\\,?\\s?(?:Jan|Feb|Ma[ry]|Apr|Ju[nl]|Aug|Sept?|Oct|Nov|Dec)\\.?\\s?\\d{1,4}(?:th|st|nd|rd)?\\.?'\n",
    "#p3 = '(?:[Mm]onday|[Tt]uesday|[Ww]ednesday|[Tt]hursday|[Ff]riday|[Ss]aturday|[Ss]unday)\\,\\s?(?:Jan|Feb|Ma[ry]|Apr|Ju[nl]|Aug|Sept?|Oct|Nov|Dec)?\\.?\\s?(?:\\d{1,4})?(?:th|st|nd|rd)?\\.?'\n",
    "#p4 = '(?:[Jj]anuary|[Ff]ebruary|[Mm]arch|[Aa]pril|[Mm]ay|[Jj]une|[Jj]uly|[Aa]ugust|[Ss]eptember|[Oo]ctober|[Nn]ovember|[Dd]ecember)\\s(?:\\d{1,2})?(?:\\D{2})?\\.?'\n",
    "p4 = '(?:[Jj]anuary|[Ff]ebruary|[Mm]arch|[Aa]pril|[Mm]ay|[Jj]une|[Jj]uly|[Aa]ugust|[Ss]eptember|[Oo]ctober|[Nn]ovember|[Dd]ecember)\\s?(?:\\d{1,2})?\\,?(?:th|st|nd\\rd)\\.?'\n",
    "p5 = \"[Tt]he\\s?\\d{1,2}(?:st|nd|rd|th)\\s?of\\s?\\D{1,9}\"\n",
    "p6 = \"(?:[Mm]onday|[Tt]uesday|[Ww]ednesday|[Tt]hursday|[Ff]riday|[Ss]aturday|[Ss]unday)\\s[Tt]he\\s\\d{1,2}(?:st|nd|rd|th)?\"\n",
    "holidays = \"(?:New Year New Year's Day|New Year's Eve|Christmas|Labor Day|Martin Luther King Jr. Day|MLK Day|Presidents' Day|Emancipation Day|Mother's Day|Memorial Day|Father's Day|Independence Day|Columbus Day|Veterans Day|Thanksgiving|Halloween|Valentine's Day|April Fool’s Day|Easter|Lincoln’s Birthday|Washington’s Birthday|Washington’s Birthday|Arbor Day|Flag Day)\\s?(?:[Dd]ay)?\"\n",
    "re_list = [p, p1, p2, p3, p4, p5, p6, holidays]\n",
    "\n"
   ]
  },
  {
   "cell_type": "code",
   "execution_count": 20,
   "metadata": {},
   "outputs": [],
   "source": [
    "hw1 = re.compile( '|'.join( re_list) )"
   ]
  },
  {
   "cell_type": "code",
   "execution_count": 21,
   "metadata": {},
   "outputs": [],
   "source": [
    "text = docx2txt.process(os.getcwd()+\"/input_Hw1.docx\")"
   ]
  },
  {
   "cell_type": "code",
   "execution_count": 22,
   "metadata": {},
   "outputs": [],
   "source": [
    "matches = []\n",
    "for r in re_list:\n",
    "    matches += re.findall(r, text)"
   ]
  },
  {
   "cell_type": "code",
   "execution_count": 23,
   "metadata": {},
   "outputs": [
    {
     "data": {
      "text/plain": [
       "['Monday',\n",
       " 'Wednesday',\n",
       " 'Tuesday',\n",
       " 'Wednesday',\n",
       " 'Tuesday',\n",
       " 'Monday 8a.m.',\n",
       " 'Monday afternoon',\n",
       " '10/10/2018',\n",
       " 'Wednesday, Oct. 11th',\n",
       " 'Tuesday, Oct. 2018',\n",
       " 'October 20th.',\n",
       " 'Christmas Day']"
      ]
     },
     "execution_count": 23,
     "metadata": {},
     "output_type": "execute_result"
    }
   ],
   "source": [
    "matches"
   ]
  },
  {
   "cell_type": "code",
   "execution_count": 24,
   "metadata": {},
   "outputs": [],
   "source": [
    "with open(os.getcwd()+'output.txt', 'w') as f:\n",
    "    for item in matches:\n",
    "        f.write(\"%s\\n\" % item)"
   ]
  },
  {
   "cell_type": "code",
   "execution_count": null,
   "metadata": {},
   "outputs": [],
   "source": []
  },
  {
   "cell_type": "code",
   "execution_count": null,
   "metadata": {},
   "outputs": [],
   "source": []
  }
 ],
 "metadata": {
  "kernelspec": {
   "display_name": "Python 3",
   "language": "python",
   "name": "python3"
  },
  "language_info": {
   "codemirror_mode": {
    "name": "ipython",
    "version": 3
   },
   "file_extension": ".py",
   "mimetype": "text/x-python",
   "name": "python",
   "nbconvert_exporter": "python",
   "pygments_lexer": "ipython3",
   "version": "3.6.8"
  }
 },
 "nbformat": 4,
 "nbformat_minor": 2
}
